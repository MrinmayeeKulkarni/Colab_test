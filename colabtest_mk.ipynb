{
  "nbformat": 4,
  "nbformat_minor": 0,
  "metadata": {
    "colab": {
      "name": "colabtest_mk.ipynb",
      "provenance": [],
      "include_colab_link": true
    },
    "kernelspec": {
      "name": "python3",
      "display_name": "Python 3"
    }
  },
  "cells": [
    {
      "cell_type": "markdown",
      "metadata": {
        "id": "view-in-github",
        "colab_type": "text"
      },
      "source": [
        "<a href=\"https://colab.research.google.com/github/MrinmayeeKulkarni/Colab_test/blob/master/colabtest_mk.ipynb\" target=\"_parent\"><img src=\"https://colab.research.google.com/assets/colab-badge.svg\" alt=\"Open In Colab\"/></a>"
      ]
    },
    {
      "cell_type": "markdown",
      "metadata": {
        "id": "Ik2WPb8JMjKB",
        "colab_type": "text"
      },
      "source": [
        "Colab Test"
      ]
    },
    {
      "cell_type": "markdown",
      "metadata": {
        "id": "ZHR5-nOxMnNy",
        "colab_type": "text"
      },
      "source": [
        "Ingest\n"
      ]
    },
    {
      "cell_type": "code",
      "metadata": {
        "id": "ykiBRGpzObmr",
        "colab_type": "code",
        "colab": {
          "base_uri": "https://localhost:8080/",
          "height": 50
        },
        "outputId": "b90943e8-08a0-49fe-d59c-ca05e7924b24"
      },
      "source": [
        "print(\"Hello All\")\n",
        "print(\"Colab Test\")"
      ],
      "execution_count": 1,
      "outputs": [
        {
          "output_type": "stream",
          "text": [
            "Hello All\n",
            "Colab Test\n"
          ],
          "name": "stdout"
        }
      ]
    },
    {
      "cell_type": "markdown",
      "metadata": {
        "id": "MAR8C8tRMxjC",
        "colab_type": "text"
      },
      "source": [
        "EDA"
      ]
    },
    {
      "cell_type": "markdown",
      "metadata": {
        "id": "vyp17bJiMyu-",
        "colab_type": "text"
      },
      "source": [
        "Modeling"
      ]
    }
  ]
}