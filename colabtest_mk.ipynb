{
  "nbformat": 4,
  "nbformat_minor": 0,
  "metadata": {
    "colab": {
      "name": "colabtest_mk.ipynb",
      "provenance": [],
      "authorship_tag": "ABX9TyM9Vg5wvtPehxMBvmwAbV20",
      "include_colab_link": true
    },
    "kernelspec": {
      "name": "python3",
      "display_name": "Python 3"
    }
  },
  "cells": [
    {
      "cell_type": "markdown",
      "metadata": {
        "id": "view-in-github",
        "colab_type": "text"
      },
      "source": [
        "<a href=\"https://colab.research.google.com/github/MrinmayeeKulkarni/Colab_test/blob/master/colabtest_mk.ipynb\" target=\"_parent\"><img src=\"https://colab.research.google.com/assets/colab-badge.svg\" alt=\"Open In Colab\"/></a>"
      ]
    },
    {
      "cell_type": "markdown",
      "metadata": {
        "id": "Ik2WPb8JMjKB",
        "colab_type": "text"
      },
      "source": [
        "Colab Test"
      ]
    },
    {
      "cell_type": "markdown",
      "metadata": {
        "id": "ZHR5-nOxMnNy",
        "colab_type": "text"
      },
      "source": [
        "Ingest\n"
      ]
    },
    {
      "cell_type": "markdown",
      "metadata": {
        "id": "MAR8C8tRMxjC",
        "colab_type": "text"
      },
      "source": [
        "EDA"
      ]
    },
    {
      "cell_type": "markdown",
      "metadata": {
        "id": "vyp17bJiMyu-",
        "colab_type": "text"
      },
      "source": [
        "Modeling"
      ]
    }
  ]
}